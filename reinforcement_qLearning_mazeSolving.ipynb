{
  "nbformat": 4,
  "nbformat_minor": 0,
  "metadata": {
    "colab": {
      "name": "reinforcement_qLearning_mazeSolving.ipynb",
      "provenance": [],
      "collapsed_sections": [],
      "include_colab_link": true
    },
    "kernelspec": {
      "name": "python3",
      "display_name": "Python 3"
    }
  },
  "cells": [
    {
      "cell_type": "markdown",
      "metadata": {
        "id": "view-in-github",
        "colab_type": "text"
      },
      "source": [
        "<a href=\"https://colab.research.google.com/github/egeoguzman/reinforcement_qLearning_mazeSolving/blob/master/reinforcement_qLearning_mazeSolving.ipynb\" target=\"_parent\"><img src=\"https://colab.research.google.com/assets/colab-badge.svg\" alt=\"Open In Colab\"/></a>"
      ]
    },
    {
      "cell_type": "markdown",
      "metadata": {
        "id": "vePKFnogQ9LL",
        "colab_type": "text"
      },
      "source": [
        "REINFORCEMENT Q-LEARNING SHORTEST PATH ALGORITHM\n",
        "\n",
        "You can use colab.research.google.com to run this program\n",
        "\n",
        "https://github.com/egeoguzman/reinforcement_qLearning_mazeSolving\n"
      ]
    },
    {
      "cell_type": "code",
      "metadata": {
        "id": "3PHdjNbu5teu",
        "colab_type": "code",
        "colab": {}
      },
      "source": [
        "#Project Requirements\n",
        "\n",
        "%matplotlib inline\n",
        "import matplotlib.pyplot as plt\n",
        "import numpy as np\n",
        "import pandas as pd\n",
        "import random"
      ],
      "execution_count": 0,
      "outputs": []
    },
    {
      "cell_type": "code",
      "metadata": {
        "id": "V7L1hRrWy6Jv",
        "colab_type": "code",
        "colab": {}
      },
      "source": [
        "# Map Informations \n",
        "map_information={\"walls\" : [(4,3),(2,3),(0,5),(2,7),(5,2),(3,6),(4,1),(3,0),(5,6)] ,\"information\" : {\"rows\":8,\"columns\":8, \"start\":(2,1), \"end\":(0,3)\t}}\n",
        "\n",
        "#Points of Obstacles \n",
        "obstacle = map_information[\"walls\"]\n",
        "#Initial point of the agent and the target point \n",
        "start = map_information[\"information\"][\"start\"]\n",
        "end = map_information[\"information\"][\"end\"]\n",
        "\n",
        "#Size of the map\n",
        "map_height = map_information[\"information\"][\"rows\"]\n",
        "map_width = map_information[\"information\"][\"columns\"]"
      ],
      "execution_count": 0,
      "outputs": []
    },
    {
      "cell_type": "code",
      "metadata": {
        "id": "Kwkddhh0zBKy",
        "colab_type": "code",
        "outputId": "f856fe73-9f55-4cf6-cc51-e7a06dca6241",
        "colab": {
          "base_uri": "https://localhost:8080/",
          "height": 153
        }
      },
      "source": [
        "# Default matrix to observation (REWARD-TABLE)\n",
        "\n",
        "R = np.zeros((map_height,map_width))\n",
        "\n",
        "\n",
        "#Inserts obstacles , start and end points to the R martix\n",
        "for x,y in enumerate(obstacle):\n",
        "  R[y[0]][y[1]]= -1\n",
        "\n",
        "R[start[0]][start[1]]= 100\n",
        "R[end[0]][end[1]]= 100\n",
        "\n",
        "# '0s' are free cells. '-1s' are the obstacles.'5' is the 5TART point.'3' is the 3ND Point.\n",
        "\n",
        "print(R)"
      ],
      "execution_count": 0,
      "outputs": [
        {
          "output_type": "stream",
          "text": [
            "[[  0.   0.   0. 100.   0.  -1.   0.   0.]\n",
            " [  0.   0.   0.   0.   0.   0.   0.   0.]\n",
            " [  0. 100.   0.  -1.   0.   0.   0.  -1.]\n",
            " [ -1.   0.   0.   0.   0.   0.  -1.   0.]\n",
            " [  0.  -1.   0.  -1.   0.   0.   0.   0.]\n",
            " [  0.   0.  -1.   0.   0.   0.  -1.   0.]\n",
            " [  0.   0.   0.   0.   0.   0.   0.   0.]\n",
            " [  0.   0.   0.   0.   0.   0.   0.   0.]]\n"
          ],
          "name": "stdout"
        }
      ]
    },
    {
      "cell_type": "code",
      "metadata": {
        "id": "kn-35Aizzgcs",
        "colab_type": "code",
        "outputId": "902124b2-e40a-44ef-c7ec-891615e4955c",
        "colab": {
          "base_uri": "https://localhost:8080/",
          "height": 54
        }
      },
      "source": [
        "# Defines the free points that agent can move on. Last edge is the END POINT and before the last is the START POINT.\n",
        "free_points = []\n",
        "free_cells = []\n",
        "for x in range(map_height):\n",
        "  for y in range(map_width):\n",
        "    if R[x][y] == 0:\n",
        "      free_points.append((x,y))\n",
        "free_points.append(start)\n",
        "free_points.append(end)\n",
        "print(free_points)"
      ],
      "execution_count": 0,
      "outputs": [
        {
          "output_type": "stream",
          "text": [
            "[(0, 0), (0, 1), (0, 2), (0, 4), (0, 6), (0, 7), (1, 0), (1, 1), (1, 2), (1, 3), (1, 4), (1, 5), (1, 6), (1, 7), (2, 0), (2, 2), (2, 4), (2, 5), (2, 6), (3, 1), (3, 2), (3, 3), (3, 4), (3, 5), (3, 7), (4, 0), (4, 2), (4, 4), (4, 5), (4, 6), (4, 7), (5, 0), (5, 1), (5, 3), (5, 4), (5, 5), (5, 7), (6, 0), (6, 1), (6, 2), (6, 3), (6, 4), (6, 5), (6, 6), (6, 7), (7, 0), (7, 1), (7, 2), (7, 3), (7, 4), (7, 5), (7, 6), (7, 7), (2, 1), (0, 3)]\n"
          ],
          "name": "stdout"
        }
      ]
    },
    {
      "cell_type": "code",
      "metadata": {
        "id": "T9da8iPXZ4jP",
        "colab_type": "code",
        "outputId": "c5a7a9fa-214a-435e-a503-3b5e6c722c97",
        "colab": {
          "base_uri": "https://localhost:8080/",
          "height": 248
        }
      },
      "source": [
        "import networkx as nx\n",
        "# 3ND point is the or goal that stored in the last element of our free point list.\n",
        "\n",
        "G=nx.Graph()\n",
        "G.add_edges_from(free_points)\n",
        "pos = nx.spring_layout(G)\n",
        "nx.draw_networkx_nodes(G,pos)\n",
        "nx.draw_networkx_edges(G,pos)\n",
        "nx.draw_networkx_labels(G,pos)\n",
        "plt.show()\n",
        "\n",
        "# The network seems like as below.This connections are round-trip.\n",
        "#Start point = 2 and end point is 7 as you can see in the points list."
      ],
      "execution_count": 0,
      "outputs": [
        {
          "output_type": "display_data",
          "data": {
            "image/png": "[encoded data removed]",
            "text/plain": [
              "<Figure size 432x288 with 1 Axes>"
            ]
          },
          "metadata": {
            "tags": []
          }
        }
      ]
    },
    {
      "cell_type": "code",
      "metadata": {
        "id": "5umymZUkcGqp",
        "colab_type": "code",
        "colab": {}
      },
      "source": [
        "# Defines Q - TABLE\n",
        "Q = np.zeros((map_height,map_width))\n",
        "#Learning parameter\n",
        "gamma = 0.8\n",
        "initial_state = 2\n",
        "goal = 3\n",
        "\n"
      ],
      "execution_count": 0,
      "outputs": []
    },
    {
      "cell_type": "code",
      "metadata": {
        "id": "WzVvK0DegOIC",
        "colab_type": "code",
        "outputId": "31e28eba-f337-4710-f424-cebaa992b6b4",
        "colab": {
          "base_uri": "https://localhost:8080/",
          "height": 34
        }
      },
      "source": [
        "#Function lists the all possible paths\n",
        "def available_actions(state):\n",
        "  current_state_row = R[state,]\n",
        "  available_act = np.where(current_state_row >= 0)[0]\n",
        "  return available_act\n",
        "\n",
        "available_act = available_actions(initial_state)\n",
        "print(available_act)\n",
        "\n",
        "#You can check the list with the network graph above"
      ],
      "execution_count": 0,
      "outputs": [
        {
          "output_type": "stream",
          "text": [
            "[0 1 2 4 5 6]\n"
          ],
          "name": "stdout"
        }
      ]
    },
    {
      "cell_type": "code",
      "metadata": {
        "id": "xWETgaoIDgQJ",
        "colab_type": "code",
        "outputId": "4accf84c-ce3f-4b28-d63d-15f819033568",
        "colab": {
          "base_uri": "https://localhost:8080/",
          "height": 34
        }
      },
      "source": [
        "#Select the next path randomly.\n",
        "def next_action(available_act):\n",
        "  next_action = int(np.random.choice(available_act,1))\n",
        "  return next_action\n",
        "action = next_action(available_act)\n",
        "print(action)\n"
      ],
      "execution_count": 0,
      "outputs": [
        {
          "output_type": "stream",
          "text": [
            "4\n"
          ],
          "name": "stdout"
        }
      ]
    },
    {
      "cell_type": "markdown",
      "metadata": {
        "id": "Td1JxEqrQAdF",
        "colab_type": "text"
      },
      "source": [
        "#Q-LEARNING FORMULA:                          \n",
        "\n",
        "**Q(state, action) = R(state, action) + Gamma * Max[Q(next state, all actions)]**"
      ]
    },
    {
      "cell_type": "code",
      "metadata": {
        "id": "f9PxYyYaGjtW",
        "colab_type": "code",
        "colab": {}
      },
      "source": [
        "# This function updates the Q matrix according to the path selected and the Q learning algorithm\n",
        "# The brain of our project. It updates the Q Matrix to see shortest path for agent.\n",
        "def update(current_state, action, gamma):\n",
        "\n",
        "    max_index = np.where(Q[action,] == np.max(Q[action,]))[0]\n",
        "\n",
        "\n",
        "    if max_index.shape[0] > 1:\n",
        "        max_index = np.random.choice(max_index, size = 1)\n",
        "    else:\n",
        "        max_index = int(max_index)\n",
        "    max_value = Q[action, max_index]\n",
        "\n",
        "    # Q learning formula\n",
        "    Q[current_state, action] = R[current_state, action] + gamma * max_value\n",
        "\n",
        "    # Update Q matrix\n",
        "update(initial_state,action,gamma)\n"
      ],
      "execution_count": 0,
      "outputs": []
    },
    {
      "cell_type": "code",
      "metadata": {
        "id": "JjEnzoEflF1w",
        "colab_type": "code",
        "outputId": "1e49c997-4bff-4e61-f2f8-715fe5903476",
        "colab": {
          "base_uri": "https://localhost:8080/",
          "height": 340
        }
      },
      "source": [
        "#Training\n",
        "# Train over 100 iterations. (Re-iterate the process above).\n",
        "for i in range(100):\n",
        "    current_state = np.random.randint(0, int(Q.shape[0]))\n",
        "    available_act = available_actions(current_state)\n",
        "    action = next_action(available_act)\n",
        "    update(current_state,action,gamma)\n",
        "    \n",
        "# Normalize the \"trained\" Q matrix\n",
        "print(\"Trained Q matrix:\")\n",
        "print(Q/np.max(Q)*100)\n",
        "\n",
        "#<-------------------------------------------------------------------->#\n",
        "\n",
        "# Testing\n",
        "current_state = initial_state\n",
        "last_state = goal\n",
        "\n",
        "steps = [current_state]\n",
        "\n",
        "while current_state != last_state:\n",
        "\n",
        "    next_step_index = np.where(Q[current_state,] == np.max(Q[current_state,]))[0]\n",
        "    if next_step_index.shape[0] > 1:\n",
        "        next_step_index = int(np.random.choice(next_step_index, size = 1))\n",
        "    else:\n",
        "        next_step_index = int(next_step_index)\n",
        "    \n",
        "    steps.append(next_step_index)\n",
        "    current_state = next_step_index\n",
        "\n",
        "# Print selected sequence of steps\n",
        "print(\"Selected path:\")\n",
        "print(steps)"
      ],
      "execution_count": 0,
      "outputs": [
        {
          "output_type": "stream",
          "text": [
            "Trained Q matrix:\n",
            "[[ 52.91005291  27.08994709  42.32804233 100.          33.86243386\n",
            "    0.          33.86243386  42.32804233]\n",
            " [ 52.91005291  27.08994709  42.32804233  33.86243386   0.\n",
            "    0.          33.86243386  42.32804233]\n",
            " [ 52.91005291   0.          42.32804233   0.           0.\n",
            "    0.           0.           0.        ]\n",
            " [  0.           0.          42.32804233  33.86243386  33.86243386\n",
            "    0.           0.          42.32804233]\n",
            " [  0.           0.          42.32804233   0.          33.86243386\n",
            "   27.08994709   0.          42.32804233]\n",
            " [ 52.91005291   0.           0.          33.86243386  33.86243386\n",
            "   27.08994709   0.           0.        ]\n",
            " [ 52.91005291   0.          42.32804233   0.          33.86243386\n",
            "    0.           0.           0.        ]\n",
            " [ 52.91005291  27.08994709  42.32804233   0.          33.86243386\n",
            "   27.08994709  42.32804233  42.32804233]]\n",
            "Selected path:\n",
            "[2, 0, 3]\n"
          ],
          "name": "stdout"
        }
      ]
    }
  ]
}